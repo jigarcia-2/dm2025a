{
  "cells": [
    {
      "cell_type": "markdown",
      "metadata": {
        "id": "view-in-github",
        "colab_type": "text"
      },
      "source": [
        "<a href=\"https://colab.research.google.com/github/jigarcia-2/dm2025a/blob/main/V_ROTAS_WorkFlow_junior.ipynb\" target=\"_parent\"><img src=\"https://colab.research.google.com/assets/colab-badge.svg\" alt=\"Open In Colab\"/></a>"
      ]
    },
    {
      "cell_type": "markdown",
      "id": "859d38e7-11c0-48bc-978a-d0e907f19ed1",
      "metadata": {
        "id": "859d38e7-11c0-48bc-978a-d0e907f19ed1"
      },
      "source": [
        "# Variables Rotas WorkFlow Analista Jr - GRUPO A"
      ]
    },
    {
      "cell_type": "markdown",
      "source": [
        "##   Workflow - Inicializacion"
      ],
      "metadata": {
        "id": "oSKhZRToy2F7"
      },
      "id": "oSKhZRToy2F7"
    },
    {
      "cell_type": "markdown",
      "metadata": {
        "id": "eSU5vi00CPRS"
      },
      "source": [
        "Esta parte se debe correr con el runtime en lenguaje **R** Ir al menu, Runtime -> Change Runtime Type -> Runtime type -> R"
      ],
      "id": "eSU5vi00CPRS"
    },
    {
      "cell_type": "markdown",
      "metadata": {
        "id": "Zq8dySimCPRT"
      },
      "source": [
        "limpio el ambiente de R"
      ],
      "id": "Zq8dySimCPRT"
    },
    {
      "cell_type": "code",
      "source": [
        "format(Sys.time(), \"%a %b %d %X %Y\")"
      ],
      "metadata": {
        "id": "EL8wdHaUs59K"
      },
      "id": "EL8wdHaUs59K",
      "execution_count": null,
      "outputs": []
    },
    {
      "cell_type": "code",
      "execution_count": null,
      "metadata": {
        "id": "1iE0U4_WCPRT"
      },
      "outputs": [],
      "source": [
        "# limpio la memoria\n",
        "rm(list=ls(all.names=TRUE)) # remove all objects\n",
        "gc(full=TRUE, verbose=FALSE) # garbage collection"
      ],
      "id": "1iE0U4_WCPRT"
    },
    {
      "cell_type": "code",
      "source": [
        "require(\"data.table\")\n",
        "\n",
        "if( !require(\"R.utils\")) install.packages(\"R.utils\")\n",
        "require(\"R.utils\")"
      ],
      "metadata": {
        "id": "atmIUEUNUrK5"
      },
      "id": "atmIUEUNUrK5",
      "execution_count": null,
      "outputs": []
    },
    {
      "cell_type": "markdown",
      "source": [
        "#### Parametros"
      ],
      "metadata": {
        "id": "BsxZ_ONyj9L_"
      },
      "id": "BsxZ_ONyj9L_"
    },
    {
      "cell_type": "code",
      "source": [
        "PARAM <- list()\n",
        "PARAM$semilla_primigenia <- 111121 # definir aqui tu semilla\n",
        "\n",
        "PARAM$experimento <- 9100\n",
        "PARAM$dataset <- \"analistajr_competencia_2025.csv.gz\""
      ],
      "metadata": {
        "id": "peRH7ySLCPRV"
      },
      "execution_count": null,
      "outputs": [],
      "id": "peRH7ySLCPRV"
    },
    {
      "cell_type": "markdown",
      "source": [
        "#### Carpeta del Experimento"
      ],
      "metadata": {
        "id": "NoJbKo_4NG8A"
      },
      "id": "NoJbKo_4NG8A"
    },
    {
      "cell_type": "code",
      "source": [
        "# carpeta de trabajo\n",
        "\n",
        "setwd(\"/content/buckets/b1/exp\")\n",
        "experimento_folder <- paste0(\"WF\", PARAM$experimento)\n",
        "dir.create(experimento_folder, showWarnings=FALSE)\n",
        "setwd( paste0(\"/content/buckets/b1/exp/\", experimento_folder ))"
      ],
      "metadata": {
        "id": "1gZD6ZMvCPRV"
      },
      "execution_count": null,
      "outputs": [],
      "id": "1gZD6ZMvCPRV"
    },
    {
      "cell_type": "markdown",
      "source": [
        "###  Preprocesamiento del dataset"
      ],
      "metadata": {
        "id": "YVKBfLtkR8SO"
      },
      "id": "YVKBfLtkR8SO"
    },
    {
      "cell_type": "markdown",
      "source": [
        "#### DT incorporar dataset"
      ],
      "metadata": {
        "id": "cr3K0RPVRjq6"
      },
      "id": "cr3K0RPVRjq6"
    },
    {
      "cell_type": "code",
      "source": [
        "# lectura del dataset\n",
        "dataset <- fread(paste0(\"/content/datasets/\", PARAM$dataset))"
      ],
      "metadata": {
        "id": "Xi0emX2ECPRV"
      },
      "execution_count": null,
      "outputs": [],
      "id": "Xi0emX2ECPRV"
    },
    {
      "cell_type": "markdown",
      "source": [
        "#### 9.3.1.2  CA  Catastrophe Analysis\n",
        "Se intentan reparar las variables que para un mes están con todos los valores en cero."
      ],
      "metadata": {
        "id": "MWuPzK3nSLY3"
      },
      "id": "MWuPzK3nSLY3"
    },
    {
      "cell_type": "markdown",
      "source": [
        "Se proponen 4 métodos para mejorar la predicción A- **ningún método** , B-  **Machine Learning**, c- **Estadística Clásica** , D- **MICE** .\n",
        "\n",
        "**Machine Learning**  asigna NA a los valores faltantes (\"anti imputación de valores faltantes\")\n",
        "\n",
        "**Estadística Clásica** reemplaza valores faltantes por promedio entre el valor anterior (lag) y el siguiente (lead) de cada cliente (entity_id).\n",
        "\n",
        "**MICE** implica imputación multivariada del campo afectado.\n",
        "\n",
        "A continuación se describen los métodos y al final **PARAM$CA$metodo** llama a una de las tres funciones anteriores.\n",
        "\n",
        "**En caso de decidir NO aplicar un método de imputacion de variables rotas, obviar el punto 9.3.1.2**\n",
        "\n",
        "<br>"
      ],
      "metadata": {
        "id": "UAI16-yCVcBS"
      },
      "id": "UAI16-yCVcBS"
    },
    {
      "cell_type": "code",
      "source": [
        "#cargar libreria\n",
        "if( !require(\"lightgbm\")) install.packages(\"lightgbm\")\n",
        "require(\"lightgbm\")"
      ],
      "metadata": {
        "id": "QAZaUpZZgKkZ"
      },
      "id": "QAZaUpZZgKkZ",
      "execution_count": null,
      "outputs": []
    },
    {
      "cell_type": "code",
      "source": [
        "if( !require(\"mice\")) install.packages(\"mice\", repos = \"http://cran.us.r-project.org\")\n",
        "require(\"mice\")"
      ],
      "metadata": {
        "id": "JB9nRyNKNBzy"
      },
      "execution_count": null,
      "outputs": [],
      "id": "JB9nRyNKNBzy"
    },
    {
      "cell_type": "code",
      "source": [
        "\n",
        "\n",
        "Corregir_MICE <- function(pcampo, pmeses) {\n",
        "\n",
        "  meth <- rep(\"\", ncol(dataset))\n",
        "  names(meth) <- colnames(dataset)\n",
        "  meth[names(meth) == pcampo] <- \"sample\"\n",
        "\n",
        "  # llamada a mice  !\n",
        "  imputacion <- mice(dataset,\n",
        "    method = meth,\n",
        "    maxit = 5,\n",
        "    m = 1,\n",
        "    seed = 7)\n",
        "\n",
        "  tbl <- mice::complete(dataset)\n",
        "\n",
        "  dataset[, paste0(pcampo) := ifelse(foto_mes %in% pmeses, tbl[, get(pcampo)], get(pcampo))]\n",
        "\n",
        "}\n"
      ],
      "metadata": {
        "id": "QuraTbvTMmpf"
      },
      "execution_count": null,
      "outputs": [],
      "id": "QuraTbvTMmpf"
    },
    {
      "cell_type": "code",
      "source": [
        "Corregir_interpolar <- function(pcampo, pmeses) {\n",
        "\n",
        "  tbl <- dataset[, list(\n",
        "    \"v1\" = shift(get(pcampo), 1, type = \"lag\"),\n",
        "    \"v2\" = shift(get(pcampo), 1, type = \"lead\")\n",
        "  ),\n",
        "  by = eval(envg$PARAM$dataset_metadata$entity_id)\n",
        "  ]\n",
        "\n",
        "  tbl[, paste0(envg$PARAM$dataset_metadata$entity_id) := NULL]\n",
        "  tbl[, promedio := rowMeans(tbl, na.rm = TRUE)]\n",
        "\n",
        "  dataset[\n",
        "    ,\n",
        "    paste0(pcampo) := ifelse(!(foto_mes %in% pmeses),\n",
        "      get(pcampo),\n",
        "      tbl$promedio\n",
        "    )\n",
        "  ]\n",
        "}"
      ],
      "metadata": {
        "id": "mUDX04VTJz3M"
      },
      "execution_count": null,
      "outputs": [],
      "id": "mUDX04VTJz3M"
    },
    {
      "cell_type": "code",
      "source": [
        "AsignarNA_campomeses <- function(pcampo, pmeses) {\n",
        "\n",
        "  if( pcampo %in% colnames( dataset ) ) {\n",
        "\n",
        "    dataset[ foto_mes %in% pmeses, paste0(pcampo) := NA ]\n",
        "  }\n",
        "}"
      ],
      "metadata": {
        "id": "Yyt2YmrbJ1zf"
      },
      "execution_count": null,
      "outputs": [],
      "id": "Yyt2YmrbJ1zf"
    },
    {
      "cell_type": "code",
      "source": [
        "\n",
        "Corregir_atributo <- function(pcampo, pmeses, pmetodo)\n",
        "{\n",
        "  # si el campo no existe en el dataset, Afuera !\n",
        "  if( !(pcampo %in% colnames( dataset )) )\n",
        "    return( 1 )\n",
        "\n",
        "  # llamo a la funcion especializada que corresponde\n",
        "  switch( pmetodo,\n",
        "    \"MachineLearning\"     = AsignarNA_campomeses(pcampo, pmeses),\n",
        "    \"EstadisticaClasica\"  = Corregir_interpolar(pcampo, pmeses),\n",
        "    \"MICE\"                = Corregir_MICE(pcampo, pmeses),\n",
        "  )\n",
        "\n",
        "  return( 0 )\n",
        "}"
      ],
      "metadata": {
        "id": "aFBlFw7hJ4EW"
      },
      "execution_count": null,
      "outputs": [],
      "id": "aFBlFw7hJ4EW"
    },
    {
      "cell_type": "code",
      "source": [
        "\n",
        "Corregir_Rotas <- function(dataset, pmetodo) {\n",
        "  gc(verbose= FALSE)\n",
        "  cat( \"inicio Corregir_Rotas()\\n\")\n",
        "  # acomodo los errores del dataset\n",
        "\n",
        "  Corregir_atributo(\"active_quarter\", c(202006), pmetodo) # 1\n",
        "  Corregir_atributo(\"internet\", c(202006), pmetodo) # 2\n",
        "\n",
        "  Corregir_atributo(\"mrentabilidad\", c(201905, 201910, 202006), pmetodo) # 3\n",
        "  Corregir_atributo(\"mrentabilidad_annual\", c(201905, 201910, 202006), pmetodo) # 4\n",
        "\n",
        "  Corregir_atributo(\"mcomisiones\", c(201905, 201910, 202006), pmetodo) # 5\n",
        "\n",
        "  Corregir_atributo(\"mactivos_margen\", c(201905, 201910, 202006), pmetodo) # 6\n",
        "  Corregir_atributo(\"mpasivos_margen\", c(201905, 201910, 202006), pmetodo) # 7\n",
        "\n",
        "  Corregir_atributo(\"mcuentas_saldo\", c(202006), pmetodo) # 8\n",
        "\n",
        "  Corregir_atributo(\"ctarjeta_debito_transacciones\", c(202006), pmetodo) # 9\n",
        "\n",
        "  Corregir_atributo(\"mautoservicio\", c(202006), pmetodo) # 10\n",
        "\n",
        "  Corregir_atributo(\"ctarjeta_visa_transacciones\", c(202006), pmetodo) # 11\n",
        "  Corregir_atributo(\"mtarjeta_visa_consumo\", c(202006), pmetodo) # 12\n",
        "\n",
        "  Corregir_atributo(\"ctarjeta_master_transacciones\", c(202006), pmetodo) # 13\n",
        "  Corregir_atributo(\"mtarjeta_master_consumo\", c(202006), pmetodo) # 14\n",
        "\n",
        "  Corregir_atributo(\"ctarjeta_visa_debitos_automaticos\", c(201904), pmetodo) # 15\n",
        "  Corregir_atributo(\"mttarjeta_visa_debitos_automaticos\", c(201904), pmetodo) # 16\n",
        "\n",
        "  Corregir_atributo(\"ccajeros_propios_descuentos\",\n",
        "    c(201910, 202002, 202006, 202009, 202010, 202102), pmetodo) # 17\n",
        "\n",
        "  Corregir_atributo(\"mcajeros_propios_descuentos\",\n",
        "    c(201910, 202002, 202006, 202009, 202010, 202102), pmetodo) # 18\n",
        "\n",
        "  Corregir_atributo(\"ctarjeta_visa_descuentos\",\n",
        "    c(201910, 202002, 202006, 202009, 202010, 202102), pmetodo) # 19\n",
        "\n",
        "  Corregir_atributo(\"mtarjeta_visa_descuentos\",\n",
        "    c(201910, 202002, 202006, 202009, 202010, 202102), pmetodo) # 20\n",
        "\n",
        "  Corregir_atributo(\"ctarjeta_master_descuentos\",\n",
        "    c(201910, 202002, 202006, 202009, 202010, 202102), pmetodo) # 21\n",
        "\n",
        "  Corregir_atributo(\"mtarjeta_master_descuentos\",\n",
        "    c(201910, 202002, 202006, 202009, 202010, 202102), pmetodo) # 22\n",
        "\n",
        "  Corregir_atributo(\"ccomisiones_otras\", c(201905, 201910, 202006), pmetodo) # 23\n",
        "  Corregir_atributo(\"mcomisiones_otras\", c(201905, 201910, 202006), pmetodo) # 24\n",
        "\n",
        "  Corregir_atributo(\"cextraccion_autoservicio\", c(202006), pmetodo) # 25\n",
        "  Corregir_atributo(\"mextraccion_autoservicio\", c(202006), pmetodo) # 26\n",
        "\n",
        "  Corregir_atributo(\"ccheques_depositados\", c(202006), pmetodo) # 27\n",
        "  Corregir_atributo(\"mcheques_depositados\", c(202006), pmetodo) # 28\n",
        "  Corregir_atributo(\"ccheques_emitidos\", c(202006), pmetodo) # 29\n",
        "  Corregir_atributo(\"mcheques_emitidos\", c(202006), pmetodo) # 30\n",
        "  Corregir_atributo(\"ccheques_depositados_rechazados\", c(202006), pmetodo) # 31\n",
        "  Corregir_atributo(\"mcheques_depositados_rechazados\", c(202006), pmetodo) # 32\n",
        "  Corregir_atributo(\"ccheques_emitidos_rechazados\", c(202006), pmetodo) # 33\n",
        "  Corregir_atributo(\"mcheques_emitidos_rechazados\", c(202006), pmetodo) # 34\n",
        "\n",
        "  Corregir_atributo(\"tcallcenter\", c(202006), pmetodo) # 35\n",
        "  Corregir_atributo(\"ccallcenter_transacciones\", c(202006), pmetodo) # 36\n",
        "\n",
        "  Corregir_atributo(\"thomebanking\", c(202006), pmetodo) # 37\n",
        "  Corregir_atributo(\"chomebanking_transacciones\", c(201910, 202006), pmetodo) # 38\n",
        "\n",
        "  Corregir_atributo(\"ccajas_transacciones\", c(202006), pmetodo) # 39\n",
        "  Corregir_atributo(\"ccajas_consultas\", c(202006), pmetodo) # 40\n",
        "\n",
        "  Corregir_atributo(\"ccajas_depositos\", c(202006, 202105), pmetodo) # 41\n",
        "\n",
        "  Corregir_atributo(\"ccajas_extracciones\", c(202006), pmetodo) # 41\n",
        "  Corregir_atributo(\"ccajas_otras\", c(202006), pmetodo) # 43\n",
        "\n",
        "  Corregir_atributo(\"catm_trx\", c(202006), pmetodo) # 44\n",
        "  Corregir_atributo(\"matm\", c(202006), pmetodo) # 45\n",
        "  Corregir_atributo(\"catm_trx_other\", c(202006), pmetodo) # 46\n",
        "  Corregir_atributo(\"matm_other\", c(202006), pmetodo) # 47\n",
        "\n",
        "  cat( \"fin Corregir_rotas()\\n\")\n",
        "}\n"
      ],
      "metadata": {
        "id": "krkr3JCxJ9Px"
      },
      "execution_count": null,
      "outputs": [],
      "id": "krkr3JCxJ9Px"
    },
    {
      "cell_type": "code",
      "source": [
        "# resuelvo el Catastrophe Analysis. DEBO seleccionar aqui el método que quiero probar según\n",
        "#las definiciones ya establecidas previamente.\n",
        "\n",
        "setorder( dataset, numero_de_cliente, foto_mes )\n",
        "\n",
        "PARAM$CA$metodo= \"MachineLearning\"\n",
        "\n",
        "if( PARAM$CA$metodo %in% c(\"MachineLearning\", \"EstadisticaClasica\", \"MICE\") )\n",
        "  Corregir_Rotas(dataset, PARAM$CA$metodo)"
      ],
      "metadata": {
        "id": "HaW4TeBIMxTn"
      },
      "execution_count": null,
      "outputs": [],
      "id": "HaW4TeBIMxTn"
    },
    {
      "cell_type": "markdown",
      "id": "526048e4-8cf2-4023-bd2d-a70e4e9ff157",
      "metadata": {
        "id": "526048e4-8cf2-4023-bd2d-a70e4e9ff157"
      },
      "source": [
        "#### 9.3.2.1 Training Strategy"
      ]
    },
    {
      "cell_type": "markdown",
      "id": "f16bc1c1-b3ea-43ca-9d3c-53f8f9ab8ec1",
      "metadata": {
        "id": "f16bc1c1-b3ea-43ca-9d3c-53f8f9ab8ec1"
      },
      "source": [
        "Se hace una estrategia de entrenamiento muy sencilla, tomando todos los meses posibles, SIN eliminar nada x pandemia ni por ningun otro motivo\n",
        "\n",
        "* future = 202109  obviamente completo\n",
        "\n",
        "* final_train =  [ 201901, 202107 ]  SIN undersampling\n",
        "\n",
        "* training\n",
        "   * testing = NO HAY\n",
        "   * validation =  202107   completo, sin undersampling\n",
        "   * training = [ 201901, 202105 ]  donde se consideran el 100% de los CONTINUA"
      ]
    },
    {
      "cell_type": "code",
      "execution_count": 1,
      "id": "2c9c0a42-ba58-4264-8566-091a6161716f",
      "metadata": {
        "id": "2c9c0a42-ba58-4264-8566-091a6161716f",
        "colab": {
          "base_uri": "https://localhost:8080/",
          "height": 72
        },
        "outputId": "a251aadf-9788-4fcc-a5bc-8a7fa3aa383c"
      },
      "outputs": [
        {
          "output_type": "error",
          "ename": "ERROR",
          "evalue": "Error: object 'PARAM' not found\n",
          "traceback": [
            "Error: object 'PARAM' not found\nTraceback:\n"
          ]
        }
      ],
      "source": [
        "PARAM$trainingstrategy$validate <- c(202107)\n",
        "\n",
        "PARAM$trainingstrategy$training <- c(\n",
        "  201901, 201902, 201903, 201904, 201905, 201906,\n",
        "  201907, 201908, 201909, 201910, 201911, 201912,\n",
        "  202001, 202002, 202003, 202004, 202005, 202006,\n",
        "  202007, 202008, 202009, 202010, 202011, 202012,\n",
        "  202101, 202102, 202103, 202104, 202105\n",
        ")\n",
        "\n",
        "\n",
        "PARAM$trainingstrategy$training_pct <- 1.0\n",
        "\n",
        "\n",
        "PARAM$trainingstrategy$positivos <- c( \"BAJA+1\", \"BAJA+2\")"
      ]
    },
    {
      "cell_type": "code",
      "source": [
        "# seteo la clase01   1={BAJA+1, BAJA+2}   0={CONTINUA}\n",
        "dataset[, clase01 := ifelse( clase_ternaria %in% PARAM$trainingstrategy$positivos, 1, 0 )]"
      ],
      "metadata": {
        "id": "tv_trHWAj4a8"
      },
      "id": "tv_trHWAj4a8",
      "execution_count": null,
      "outputs": []
    },
    {
      "cell_type": "code",
      "source": [
        "# los campos en los que se entrena\n",
        "campos_buenos <- copy( setdiff(\n",
        "    colnames(dataset), c(\"clase_ternaria\",\"clase01\",\"azar\"))\n",
        ")"
      ],
      "metadata": {
        "id": "Ud_XDKSIj8f_"
      },
      "id": "Ud_XDKSIj8f_",
      "execution_count": null,
      "outputs": []
    },
    {
      "cell_type": "code",
      "source": [
        "# preparo para que se puede hacer undersampling de los CONTINUA\n",
        "#  solamente por un tema de VELOCIDAD\n",
        "set.seed(PARAM$semilla_primigenia, kind = \"L'Ecuyer-CMRG\")\n",
        "dataset[, azar:=runif(nrow(dataset))]\n",
        "\n",
        "# undersampling de los CONTINUA\n",
        "dataset[, fold_train :=  foto_mes %in%  PARAM$trainingstrategy$training &\n",
        "    (clase_ternaria %in% c(\"BAJA+1\", \"BAJA+2\") |\n",
        "     azar < PARAM$trainingstrategy$training_pct ) ]\n",
        "\n",
        "\n",
        "if( !require(\"lightgbm\")) install.packages(\"lightgbm\")\n",
        "require(\"lightgbm\")\n",
        "\n",
        "dtrain <- lgb.Dataset(\n",
        "  data= data.matrix(dataset[fold_train == TRUE, campos_buenos, with = FALSE]),\n",
        "  label= dataset[fold_train == TRUE, clase01],\n",
        "  free_raw_data= TRUE\n",
        ")"
      ],
      "metadata": {
        "id": "rFKgZZPSj_Pa"
      },
      "id": "rFKgZZPSj_Pa",
      "execution_count": null,
      "outputs": []
    },
    {
      "cell_type": "code",
      "source": [
        "# datos de validation\n",
        "dvalidate <- lgb.Dataset(\n",
        "  data= data.matrix(dataset[foto_mes %in% PARAM$trainingstrategy$validate, campos_buenos, with = FALSE]),\n",
        "  label= dataset[foto_mes %in% PARAM$trainingstrategy$validate, clase01],\n",
        "  free_raw_data= TRUE\n",
        ")\n",
        "\n",
        "nrow(dvalidate)"
      ],
      "metadata": {
        "id": "B3yo98kQkHcP"
      },
      "id": "B3yo98kQkHcP",
      "execution_count": null,
      "outputs": []
    },
    {
      "cell_type": "markdown",
      "id": "28e8f788-551c-4e50-9029-302ac0834287",
      "metadata": {
        "id": "28e8f788-551c-4e50-9029-302ac0834287"
      },
      "source": [
        "####  9.3.2.2. Hyperparameter Tuning"
      ]
    },
    {
      "cell_type": "markdown",
      "id": "bf5fc836-e222-4aeb-a6a8-157346895ef7",
      "metadata": {
        "id": "bf5fc836-e222-4aeb-a6a8-157346895ef7"
      },
      "source": [
        "* Clase binaria que se optimiza :  positivos = [ BAJA+1, BAJA+2 ]"
      ]
    },
    {
      "cell_type": "markdown",
      "id": "885c03b5-77bc-4510-a930-0d1f14b52ffb",
      "metadata": {
        "id": "885c03b5-77bc-4510-a930-0d1f14b52ffb"
      },
      "source": [
        "* Metrica que se optimiza **AUC** Area Under Curve de la  ROC Curve\n",
        "\n",
        "es muy importante notar que intencionalmente  **NO** se está optimizando la funcion de ganancia del problema"
      ]
    },
    {
      "cell_type": "markdown",
      "id": "b7e6f95c-66ef-4ab9-9ba3-fcc099816704",
      "metadata": {
        "id": "b7e6f95c-66ef-4ab9-9ba3-fcc099816704"
      },
      "source": [
        "* Cantidad de iteraciones inteligentes de la Optimizacion Bayesiana = **10**"
      ]
    },
    {
      "cell_type": "markdown",
      "id": "fe047a87-e2d0-4418-97dd-0a881e66d73a",
      "metadata": {
        "id": "fe047a87-e2d0-4418-97dd-0a881e66d73a"
      },
      "source": [
        "* Parametros no default, fijos de LightGBM que no se optimizan\n",
        "  * max_bin = 31 , Alienigenas Ancestrales contruyeron las pirámides y dejaron a la humanidad en un jeroglifico  *max_bin=31*\n",
        "  * feature_fraction = 0.5  para poner algo que generalmente no falla\n",
        "  * learning_rate = 0.03  para que aprenda lento\n"
      ]
    },
    {
      "cell_type": "markdown",
      "id": "1e7da08e-fe57-4681-beff-11fe963116bd",
      "metadata": {
        "id": "1e7da08e-fe57-4681-beff-11fe963116bd"
      },
      "source": [
        "* Parametros que se optimizan en la Bayesian Optimization\n",
        "  * num_leaves  [8, 256]\n",
        "  * min_data_in_leaf  [8, 8192]"
      ]
    },
    {
      "cell_type": "code",
      "source": [
        "# paquetes necesarios para la Bayesian Optimization\n",
        "if(!require(\"DiceKriging\")) install.packages(\"DiceKriging\")\n",
        "require(\"DiceKriging\")\n",
        "\n",
        "if(!require(\"mlrMBO\")) install.packages(\"mlrMBO\")\n",
        "require(\"mlrMBO\")"
      ],
      "metadata": {
        "id": "34V6y4GetKq_"
      },
      "id": "34V6y4GetKq_",
      "execution_count": null,
      "outputs": []
    },
    {
      "cell_type": "markdown",
      "source": [
        "Definición de la Bayesian Optimization\n",
        "<br> Si se desea optimizar un hiperparámetro que esta como fijo, debe QUITARSE de param_fijos y agregarse a PARAM$hipeparametertuning$hs"
      ],
      "metadata": {
        "id": "UFbDSYtH0TTT"
      },
      "id": "UFbDSYtH0TTT"
    },
    {
      "cell_type": "code",
      "source": [
        "# un Analista Jr  debe poder animarse a hacer 100 iteraciones\n",
        "PARAM$hipeparametertuning$num_interations <- 20\n",
        "\n",
        "# parametros fijos del LightGBM\n",
        "PARAM$lgbm$param_fijos <- list(\n",
        "  objective= \"binary\",\n",
        "  metric= \"auc\",\n",
        "  first_metric_only= TRUE,\n",
        "  boost_from_average= TRUE,\n",
        "  feature_pre_filter= FALSE,\n",
        "  verbosity= -100,\n",
        "  force_row_wise= TRUE, # para evitar warning\n",
        "  seed= PARAM$semilla_primigenia,\n",
        "  max_bin= 31,\n",
        "\n",
        "  num_iterations= 9999,  # valor grande, lo limita early_stopping_rounds\n",
        "  early_stopping_rounds= 400\n",
        ")\n",
        "\n",
        "PARAM$hipeparametertuning$hs <- makeParamSet(\n",
        "  makeIntegerParam(\"num_leaves\", lower= 2L, upper= 256L),\n",
        "  makeIntegerParam(\"min_data_in_leaf\", lower= 2L, upper= 8192L),\n",
        "  makeNumericParam(\"feature_fraction\", lower= 0.1, upper= 0.9),\n",
        "  makeNumericParam(\"learning_rate\", lower= 0.01, upper= 0.5)\n",
        ")"
      ],
      "metadata": {
        "id": "5Uag3XGHqrfZ"
      },
      "id": "5Uag3XGHqrfZ",
      "execution_count": null,
      "outputs": []
    },
    {
      "cell_type": "markdown",
      "source": [
        "Función \"señora caja negra\"  que es llamada para verificar la realidad por la Bayesian Optimization"
      ],
      "metadata": {
        "id": "FEa1UuuAz4yj"
      },
      "id": "FEa1UuuAz4yj"
    },
    {
      "cell_type": "code",
      "execution_count": null,
      "id": "2c10f535-8d90-47d1-ac3d-9b4c24ec21d2",
      "metadata": {
        "id": "2c10f535-8d90-47d1-ac3d-9b4c24ec21d2"
      },
      "outputs": [],
      "source": [
        "# En  x llegan los parmaetros de la bayesiana\n",
        "#  devuelve la AUC en validate del modelo entrenado\n",
        "#  en el parametro x llegan los hiperparámetros que se estan optimizando\n",
        "\n",
        "EstimarGanancia_AUC_lightgbm <- function(x) {\n",
        "\n",
        "  # x pisa (o agrega) a param_fijos\n",
        "  param_completo <- modifyList(PARAM$lgbm$param_fijos, x)\n",
        "\n",
        "  # entreno LightGBM\n",
        "  modelo_train <- lgb.train(\n",
        "    data= dtrain,\n",
        "    valids= list(valid = dvalidate),\n",
        "    eval= \"auc\",\n",
        "    param= param_completo,\n",
        "    verbose= -100\n",
        "  )\n",
        "\n",
        "  # recupero la AUC en validation\n",
        "  AUC <- modelo_train$record_evals$valid$auc$eval[[modelo_train$best_iter]]\n",
        "\n",
        "  # esta es la forma de devolver un parametro extra\n",
        "  attr(AUC, \"extras\") <- list(\"num_iterations\"= modelo_train$best_iter)\n",
        "\n",
        "  # hago espacio en la memoria\n",
        "  rm(modelo_train)\n",
        "  gc(full= TRUE, verbose= FALSE)\n",
        "\n",
        "  message(format(Sys.time(), \"%a %b %d %X %Y\"), \" AUC \", AUC)\n",
        "\n",
        "  return(AUC)\n",
        "}"
      ]
    },
    {
      "cell_type": "markdown",
      "id": "267a35d4-adaf-4271-a875-3864111333b7",
      "metadata": {
        "id": "267a35d4-adaf-4271-a875-3864111333b7"
      },
      "source": [
        "seteo de la Bayesian Optimization (complejo)\n",
        "<br> copiado y pegado de la documentación de la librería"
      ]
    },
    {
      "cell_type": "code",
      "execution_count": null,
      "id": "43c2a92d-1041-46b8-bff2-47297f209ed2",
      "metadata": {
        "id": "43c2a92d-1041-46b8-bff2-47297f209ed2"
      },
      "outputs": [],
      "source": [
        "configureMlr(show.learner.output = FALSE)\n",
        "\n",
        "# configuro la busqueda bayesiana,  los hiperparametros que se van a optimizar\n",
        "# por favor, no desesperarse por lo complejo\n",
        "obj.fun <- makeSingleObjectiveFunction(\n",
        "    fn= EstimarGanancia_AUC_lightgbm, # la funcion que voy a maximizar\n",
        "    minimize= FALSE, # estoy Maximizando AUC\n",
        "    noisy= FALSE,\n",
        "    par.set= PARAM$hipeparametertuning$hs,\n",
        "    has.simple.signature= FALSE # paso los parametros en una lista\n",
        ")\n",
        "\n",
        "# cada 600 segundos guardo el resultado intermedio\n",
        "ctrl <- makeMBOControl(\n",
        "    save.on.disk.at.time= 600,\n",
        "    save.file.path= \"HT.RDATA\"\n",
        ")\n",
        "\n",
        "# indico la cantidad de iteraciones que va a tener la Bayesian Optimization\n",
        "ctrl <- setMBOControlTermination(\n",
        "    ctrl,\n",
        "    iters= PARAM$hipeparametertuning$num_interations  # cantidad de iteraciones inteligentes\n",
        ")\n",
        "\n",
        "# defino el método estandar para la creacion de los puntos iniciales\n",
        "#   los \"No Inteligentes\"\n",
        "ctrl <- setMBOControlInfill(ctrl, crit = makeMBOInfillCritEI())\n",
        "\n",
        "# mas configuraciones\n",
        "surr.km <- makeLearner(\n",
        "    \"regr.km\",\n",
        "    predict.type= \"se\",\n",
        "    covtype= \"matern3_2\",\n",
        "    control= list(trace = TRUE)\n",
        ")"
      ]
    },
    {
      "cell_type": "markdown",
      "id": "6c1e5645-d26f-4923-a53f-f30471a4c4e8",
      "metadata": {
        "id": "6c1e5645-d26f-4923-a53f-f30471a4c4e8"
      },
      "source": [
        "Corrida de la Bayesian Optimization,  aqui se hace el trabajo pesado\n",
        "<br> por favor no se asuste con los warnings que pudieran aparecer\n",
        "\n",
        "Si corrío a medias y llegó a las iteraciones inteligentes, en el archivo binario HT.RDATA quedó lo ya procesado y es utilizado para retomar la corrida desde lo último que llegó a grabar."
      ]
    },
    {
      "cell_type": "code",
      "execution_count": null,
      "id": "1f8cab3f-c7e2-4802-bfd1-5ad509922a4e",
      "metadata": {
        "scrolled": true,
        "id": "1f8cab3f-c7e2-4802-bfd1-5ad509922a4e"
      },
      "outputs": [],
      "source": [
        "# inicio la optimizacion bayesiana\n",
        "\n",
        "if (!file.exists(\"HT.RDATA\")) {\n",
        "  bayesiana_salida <- mbo(obj.fun, learner= surr.km, control= ctrl)\n",
        "} else {\n",
        "  bayesiana_salida <- mboContinue(\"HT.RDATA\") # retomo en caso que ya exista\n",
        "}"
      ]
    },
    {
      "cell_type": "markdown",
      "id": "36307612-964f-4df3-907a-1bc3c095f178",
      "metadata": {
        "id": "36307612-964f-4df3-907a-1bc3c095f178"
      },
      "source": [
        "La bayesian optimization ha corrido, extraigo los mejores hiperparametros.\n",
        "\n",
        "**ACLARACIÓN** Selección final (PARAM$out$lgbm$mejores_hiperparametros). Para reentrenar el modelo definitivo usamos todos los hiperparámetros del registro que maximizó la métrica de validación. Esto preserva la configuración exacta con la que se obtuvo el mejor desempeño."
      ]
    },
    {
      "cell_type": "code",
      "execution_count": null,
      "id": "8c061a2a-3341-4006-a154-c95bb6cfd407",
      "metadata": {
        "id": "8c061a2a-3341-4006-a154-c95bb6cfd407"
      },
      "outputs": [],
      "source": [
        "# almaceno los resultados de la Bayesian Optimization\n",
        "# y capturo los mejores hiperparametros encontrados\n",
        "\n",
        "tb_bayesiana <- as.data.table(bayesiana_salida$opt.path)\n",
        "\n",
        "# ordeno en forma descendente por AUC = y\n",
        "setorder(tb_bayesiana, -y, -num_iterations)\n",
        "\n",
        "# grabo para eventualmente poder utilizarlos en OTRA corrida\n",
        "fwrite( tb_bayesiana,\n",
        "  file=\"BO_log.txt\",\n",
        "  sep=\"\\t\"\n",
        ")\n",
        "\n",
        "\n",
        "## los mejores hiperparámetros son los que quedaron en el registro 1 de la tabla CAMBIO AGREGADO\n",
        "PARAM$out$lgbm$mejores_hiperparametros <- tb_bayesiana[\n",
        "  1, list(num_leaves, min_data_in_leaf, feature_fraction, learning_rate, num_iterations)\n",
        "]\n",
        "\n",
        "\n",
        "print(PARAM$out$lgbm$mejores_hiperparametros)"
      ]
    },
    {
      "cell_type": "markdown",
      "id": "ddb554cb-1d96-4f6b-ae1c-c9a076f8dbdc",
      "metadata": {
        "id": "ddb554cb-1d96-4f6b-ae1c-c9a076f8dbdc"
      },
      "source": [
        "### 9.3.3 Produccion"
      ]
    },
    {
      "cell_type": "markdown",
      "id": "c39492c3-756f-47a5-8747-93ade8275306",
      "metadata": {
        "id": "c39492c3-756f-47a5-8747-93ade8275306"
      },
      "source": [
        "#### Final Training\n",
        "Construyo el modelo final, que es uno solo, no hace ningun tipo de particion < training, validation, testing>]"
      ]
    },
    {
      "cell_type": "markdown",
      "source": [
        "##### Final Training Dataset\n",
        "\n",
        "Aqui esta la gran decision de en qué meses hago el Final Training\n",
        "<br> Debo utilizar los mejores hiperparámetros que encontré en la optimización bayesiana.\n",
        "\n",
        "**ACLARACION** agrego el semillerio para (seeds_final) para entrenar múltiples modelos con muestreos aleatorios controlados. Las predicciones se promedian entre seeds, lo que reduce la varianza del estimador y estabiliza la curva de Ganancia sin depender de una única corrida. **Semillerio y ensamble**"
      ],
      "metadata": {
        "id": "xhKi_G_sYQqq"
      },
      "id": "xhKi_G_sYQqq"
    },
    {
      "cell_type": "code",
      "source": [
        "PARAM$trainingstrategy$final_train <- c(\n",
        "  201901, 201902, 201903, 201904, 201905, 201906,\n",
        "  201907, 201908, 201909, 201910, 201911, 201912,\n",
        "  202001, 202002, 202003, 202004, 202005, 202006,\n",
        "  202007, 202008, 202009, 202010, 202011, 202012,\n",
        "  202101, 202102, 202103, 202104, 202105, 202106,\n",
        "  202107\n",
        ")\n",
        "\n",
        "\n",
        "dataset[, fold_final_train := foto_mes %in% PARAM$trainingstrategy$final_train ]\n",
        "\n",
        "# creo el dfinal_train en formato  LightGBM\n",
        "dfinal_train <- lgb.Dataset(\n",
        "  data= data.matrix(dataset[fold_final_train == TRUE, campos_buenos, with= FALSE]),\n",
        "  label= dataset[fold_final_train == TRUE, clase01],\n",
        "  free_raw_data= TRUE\n",
        ")\n",
        "\n",
        "nrow( dfinal_train) # verifico el tamaño\n",
        "\n",
        "## AQUI AGREGO EL SEMILLERIO 5-10- 20 - 40 para el Final Training\n",
        "seeds_final <- c(111121, 222229, 333331, 444443, 555557)"
      ],
      "metadata": {
        "id": "qyHfS_X0zd7o"
      },
      "id": "qyHfS_X0zd7o",
      "execution_count": null,
      "outputs": []
    },
    {
      "cell_type": "markdown",
      "source": [
        "##### Final Training Hyperparameters\n",
        "\n",
        "**ACLARACIÓN** Se incorpora Bagging como esquema de regularización por defecto. Introduce submuestreo de filas por iteración, lo que reduce la varianza,  el overfitting y acelera el entrenamiento."
      ],
      "metadata": {
        "id": "HATRyklxYUpT"
      },
      "id": "HATRyklxYUpT"
    },
    {
      "cell_type": "code",
      "execution_count": null,
      "id": "d6b9f33c-e0a0-4ea6-8169-4a6180cc5d01",
      "metadata": {
        "id": "d6b9f33c-e0a0-4ea6-8169-4a6180cc5d01"
      },
      "outputs": [],
      "source": [
        "# uno los parametros fijos y los mejores encontrados de los variables\n",
        "fijos <- copy(PARAM$lgbm$param_fijos)\n",
        "\n",
        "# quito lo que optimice en la Bayesian Optimization\n",
        "fijos$num_iterations <- NULL\n",
        "fijos$early_stopping_rounds <- NULL\n",
        "\n",
        "# agrego a los hiperparametros fijos los que encontre con la Bayesian Optimization\n",
        "param_final <- c(fijos, PARAM$out$lgbm$mejores_hiperparametros)\n",
        "\n",
        "## SE AGREGA\n",
        "## --- activar aleatoriedad por filas ---\n",
        "if (is.null(param_final$bagging_fraction)) param_final$bagging_fraction <- 0.8\n",
        "if (is.null(param_final$bagging_freq))     param_final$bagging_freq     <- 1"
      ]
    },
    {
      "cell_type": "markdown",
      "id": "05d3494f-0401-4f3e-9b69-f488a737879d",
      "metadata": {
        "id": "05d3494f-0401-4f3e-9b69-f488a737879d"
      },
      "source": [
        "##### Training\n",
        "Genero el modelo final, siempre sobre TODOS los datos de  final_train, sin hacer ningun tipo de undersampling de la clase mayoritaria.\n",
        "\n",
        "**ACLARACIÓN**\n",
        "\n",
        "**Entrenamiento final con semillerío y ensemble**. A diferencia del baseline de un solo modelo, entrenamos múltiples modelos variando la semilla (s) y fijándola de forma consistente en seed, bagging_seed y feature_fraction_seed. Con bagging/submuestreo activado, cada semilla induce muestreos aleatorios distintos de filas/columnas, generando modelos reproducibles pero complementarios. Luego promediamos las predicciones entre semillas (ensemble), lo que reduce la varianza del estimador, estabiliza la curva Ganancia–Envíos"
      ]
    },
    {
      "cell_type": "code",
      "execution_count": null,
      "id": "fa239848-1c28-4ee5-984a-073903b4b279",
      "metadata": {
        "id": "fa239848-1c28-4ee5-984a-073903b4b279"
      },
      "outputs": [],
      "source": [
        "# ---------- Final Training con semillerio ----------\n",
        "modelos <- vector(\"list\", length(seeds_final))\n",
        "names(modelos) <- paste0(\"seed_\", seeds_final)\n",
        "\n",
        "for (i in seq_along(seeds_final)) {\n",
        "  s <- seeds_final[i]\n",
        "\n",
        "  # fijá semilla de R\n",
        "  set.seed(s, kind = \"L'Ecuyer-CMRG\")\n",
        "\n",
        " ## seteo la seed específica de LightGBM para ESTE modelo\n",
        " param_loop <- modifyList(param_final, list(\n",
        "  seed = s,\n",
        "  bagging_seed = s,\n",
        "  feature_fraction_seed = s\n",
        "))\n",
        "  # entreno\n",
        "  final_model <- lgb.train(\n",
        "    data   = dfinal_train,\n",
        "    param  = param_loop,\n",
        "    verbose= -100\n",
        "  )\n",
        "    modelos[[i]] <- final_model\n",
        "}"
      ]
    },
    {
      "cell_type": "code",
      "source": [
        "# grabo a disco el modelo en un formato para seres humanos ... ponele ...\n",
        "\n",
        "lgb.save(final_model, \"modelo.txt\")"
      ],
      "metadata": {
        "id": "RC1ju-5MZN5s"
      },
      "id": "RC1ju-5MZN5s",
      "execution_count": null,
      "outputs": []
    },
    {
      "cell_type": "code",
      "source": [
        "# ahora imprimo la importancia de variables\n",
        "\n",
        "tb_importancia <- as.data.table(lgb.importance(final_model))\n",
        "archivo_importancia <- \"impo.txt\"\n",
        "\n",
        "fwrite( tb_importancia,\n",
        "  file= archivo_importancia,\n",
        "  sep= \"\\t\"\n",
        ")"
      ],
      "metadata": {
        "id": "VEpv4RYOZHTU"
      },
      "id": "VEpv4RYOZHTU",
      "execution_count": null,
      "outputs": []
    },
    {
      "cell_type": "markdown",
      "id": "7ea225b3-ce02-42e2-8330-b10ed250d172",
      "metadata": {
        "id": "7ea225b3-ce02-42e2-8330-b10ed250d172"
      },
      "source": [
        "#### Scoring"
      ]
    },
    {
      "cell_type": "markdown",
      "id": "164981bb-f4c1-4228-8bc9-32e58a383c05",
      "metadata": {
        "id": "164981bb-f4c1-4228-8bc9-32e58a383c05"
      },
      "source": [
        "Aplico el modelo final a los datos del futuro"
      ]
    },
    {
      "cell_type": "code",
      "source": [
        "PARAM$trainingstrategy$future <- c(202109)\n",
        "\n",
        "dfuture <- dataset[ foto_mes %in% PARAM$trainingstrategy$future ]"
      ],
      "metadata": {
        "id": "eJ7RbT271v-R"
      },
      "id": "eJ7RbT271v-R",
      "execution_count": null,
      "outputs": []
    },
    {
      "cell_type": "code",
      "execution_count": null,
      "id": "88ca61c8-fa24-4ce5-8be1-323aca018e8f",
      "metadata": {
        "id": "88ca61c8-fa24-4ce5-8be1-323aca018e8f"
      },
      "outputs": [],
      "source": [
        "# aplico final_model   a dfuture\n",
        "\n",
        "prediccion <- predict(\n",
        "  final_model,\n",
        "  data.matrix(dfuture[, campos_buenos, with= FALSE])\n",
        ")"
      ]
    },
    {
      "cell_type": "markdown",
      "source": [
        "##### Tabla Prediccion"
      ],
      "metadata": {
        "id": "79u0ZvjJZblE"
      },
      "id": "79u0ZvjJZblE"
    },
    {
      "cell_type": "code",
      "source": [
        "tb_prediccion <- dfuture[, list(numero_de_cliente)]\n",
        "tb_prediccion[, prob := prediccion]\n",
        "\n",
        "# grabo las probabilidad del modelo\n",
        "#  me va a ser util para hacer Ensembles de modelos\n",
        "fwrite(tb_prediccion,\n",
        "  file= \"prediccion.txt\",\n",
        "  sep= \"\\t\"\n",
        ")"
      ],
      "metadata": {
        "id": "TB6aerGDZeTo"
      },
      "id": "TB6aerGDZeTo",
      "execution_count": null,
      "outputs": []
    },
    {
      "cell_type": "markdown",
      "id": "8412d838-5bd5-454e-b3a9-5eaa18d80a50",
      "metadata": {
        "id": "8412d838-5bd5-454e-b3a9-5eaa18d80a50"
      },
      "source": [
        "#### Kaggle Competition Submit"
      ]
    },
    {
      "cell_type": "markdown",
      "id": "55970cb6-856a-46e3-a893-7f36b8352b8e",
      "metadata": {
        "id": "55970cb6-856a-46e3-a893-7f36b8352b8e"
      },
      "source": [
        "Genero las salidas y hago los submits a Kaggle"
      ]
    },
    {
      "cell_type": "code",
      "execution_count": null,
      "id": "e5fa2439-b0e9-49e0-a861-71d7315d6e1c",
      "metadata": {
        "id": "e5fa2439-b0e9-49e0-a861-71d7315d6e1c"
      },
      "outputs": [],
      "source": [
        "# genero archivos con los  \"envios\" mejores\n",
        "# suba TODOS los archivos a Kaggle\n",
        "\n",
        "PARAM$kaggle$competencia <- \"data-mining-analista-jr-2025-a\"\n",
        "PARAM$kaggle$cortes <- seq(1800, 2400, by = 100)\n",
        "\n",
        "# ordeno por probabilidad descendente\n",
        "setorder(tb_prediccion, -prob)\n",
        "\n",
        "dir.create(\"kaggle\")\n",
        "\n",
        "for (envios in PARAM$kaggle$cortes) {\n",
        "\n",
        "  tb_prediccion[, Predicted := 0L] # seteo inicial a 0\n",
        "  tb_prediccion[1:envios, Predicted := 1L] # marclo los primeros\n",
        "\n",
        "  archivo_kaggle <- paste0(\"./kaggle/KA\", PARAM$experimento, \"_\", envios, \".csv\")\n",
        "\n",
        "  # grabo el archivo\n",
        "  fwrite(tb_prediccion[, list(numero_de_cliente, Predicted)],\n",
        "    file= archivo_kaggle,\n",
        "    sep= \",\"\n",
        "  )\n",
        "\n",
        "  # subida a Kaggle, armo la linea de comando\n",
        "  comando <- \"kaggle competitions submit\"\n",
        "  competencia <- paste(\"-c\", PARAM$kaggle$competencia)\n",
        "  arch <- paste( \"-f\", archivo_kaggle)\n",
        "\n",
        "  mensaje <- paste0(\"-m 'envios=\", envios,\n",
        "  \"  semilla=\", PARAM$semilla_primigenia,\n",
        "    \"'\" )\n",
        "\n",
        "  linea <- paste( comando, competencia, arch, mensaje)\n",
        "\n",
        "  salida <- system(linea, intern=TRUE) # el submit a Kaggle\n",
        "  cat(salida, \"\\n\")\n",
        "}"
      ]
    },
    {
      "cell_type": "code",
      "source": [
        "# grabo los parametros\n",
        "if( !require(\"yaml\")) install.packages(\"yaml\")\n",
        "require(\"yaml\")\n",
        "\n",
        "write_yaml( PARAM, file=\"PARAM.yml\")"
      ],
      "metadata": {
        "id": "C94tK-xid6p2"
      },
      "id": "C94tK-xid6p2",
      "execution_count": null,
      "outputs": []
    },
    {
      "cell_type": "code",
      "execution_count": null,
      "id": "1b615a62-20cc-4e95-9af2-6b6db38d5efb",
      "metadata": {
        "id": "1b615a62-20cc-4e95-9af2-6b6db38d5efb"
      },
      "outputs": [],
      "source": [
        "format(Sys.time(), \"%a %b %d %X %Y\")"
      ]
    }
  ],
  "metadata": {
    "kernelspec": {
      "display_name": "R",
      "name": "ir"
    },
    "language_info": {
      "name": "R"
    },
    "colab": {
      "provenance": [],
      "include_colab_link": true
    }
  },
  "nbformat": 4,
  "nbformat_minor": 5
}